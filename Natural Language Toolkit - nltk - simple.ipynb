{
 "cells": [
  {
   "cell_type": "code",
   "execution_count": 28,
   "metadata": {},
   "outputs": [
    {
     "name": "stdout",
     "output_type": "stream",
     "text": [
      "Requirement already satisfied: nltk in c:\\users\\tele\\anaconda3\\lib\\site-packages (3.4.5)\n",
      "Requirement already satisfied: six in c:\\users\\tele\\anaconda3\\lib\\site-packages (from nltk) (1.14.0)\n",
      "Note: you may need to restart the kernel to use updated packages.\n"
     ]
    }
   ],
   "source": [
    "pip install nltk"
   ]
  },
  {
   "cell_type": "code",
   "execution_count": 29,
   "metadata": {},
   "outputs": [],
   "source": [
    "import nltk"
   ]
  },
  {
   "cell_type": "code",
   "execution_count": 43,
   "metadata": {},
   "outputs": [],
   "source": [
    "text = [\"\"\"The most important moments are the ones that make you realize there's no turning back. You've crossed a line, and \n",
    "you're stuck on the other side now. Things we can't see affect our lives much more than we think.In this world everything is \n",
    "governed by balance. There's what you stand to gain and what you stand to lose. And in this moment they think they have \n",
    "nothing to lose. And when you believe you've got nothing to lose, you're overconfident. We will be the ones that are going to \n",
    "show them just how much they have to lose. Hope is like dominos. Once one falls, the rest follow.\"\"\"]"
   ]
  },
  {
   "cell_type": "code",
   "execution_count": 44,
   "metadata": {},
   "outputs": [],
   "source": [
    "def preprocess(texts):\n",
    "    for text in texts:\n",
    "        sentences = nltk.sent_tokenize(text)\n",
    "        for sentence in sentences:\n",
    "            words = nltk.word_tokenize(sentence)\n",
    "            tagged_words = nltk.pos_tag(words)\n",
    "            ne_tagged_words = nltk.ne_chunk(tagged_words)\n",
    "            print(ne_tagged_words)"
   ]
  },
  {
   "cell_type": "code",
   "execution_count": 45,
   "metadata": {},
   "outputs": [
    {
     "name": "stdout",
     "output_type": "stream",
     "text": [
      "(S\n",
      "  The/DT\n",
      "  most/RBS\n",
      "  important/JJ\n",
      "  moments/NNS\n",
      "  are/VBP\n",
      "  the/DT\n",
      "  ones/NNS\n",
      "  that/WDT\n",
      "  make/VBP\n",
      "  you/PRP\n",
      "  realize/VBP\n",
      "  there/EX\n",
      "  's/VBZ\n",
      "  no/DT\n",
      "  turning/VBG\n",
      "  back/RB\n",
      "  ./.)\n",
      "(S\n",
      "  You/PRP\n",
      "  've/VBP\n",
      "  crossed/VBN\n",
      "  a/DT\n",
      "  line/NN\n",
      "  ,/,\n",
      "  and/CC\n",
      "  you/PRP\n",
      "  're/VBP\n",
      "  stuck/VBN\n",
      "  on/IN\n",
      "  the/DT\n",
      "  other/JJ\n",
      "  side/NN\n",
      "  now/RB\n",
      "  ./.)\n",
      "(S\n",
      "  Things/NNS\n",
      "  we/PRP\n",
      "  ca/MD\n",
      "  n't/RB\n",
      "  see/VB\n",
      "  affect/JJ\n",
      "  our/PRP$\n",
      "  lives/NNS\n",
      "  much/RB\n",
      "  more/JJR\n",
      "  than/IN\n",
      "  we/PRP\n",
      "  think.In/VBP\n",
      "  this/DT\n",
      "  world/NN\n",
      "  everything/NN\n",
      "  is/VBZ\n",
      "  governed/VBN\n",
      "  by/IN\n",
      "  balance/NN\n",
      "  ./.)\n",
      "(S\n",
      "  There/EX\n",
      "  's/VBZ\n",
      "  what/WP\n",
      "  you/PRP\n",
      "  stand/VBP\n",
      "  to/TO\n",
      "  gain/VB\n",
      "  and/CC\n",
      "  what/WP\n",
      "  you/PRP\n",
      "  stand/VBP\n",
      "  to/TO\n",
      "  lose/VB\n",
      "  ./.)\n",
      "(S\n",
      "  And/CC\n",
      "  in/IN\n",
      "  this/DT\n",
      "  moment/NN\n",
      "  they/PRP\n",
      "  think/VBP\n",
      "  they/PRP\n",
      "  have/VBP\n",
      "  nothing/NN\n",
      "  to/TO\n",
      "  lose/VB\n",
      "  ./.)\n",
      "(S\n",
      "  And/CC\n",
      "  when/WRB\n",
      "  you/PRP\n",
      "  believe/VBP\n",
      "  you/PRP\n",
      "  've/VBP\n",
      "  got/VBN\n",
      "  nothing/NN\n",
      "  to/TO\n",
      "  lose/VB\n",
      "  ,/,\n",
      "  you/PRP\n",
      "  're/VBP\n",
      "  overconfident/JJ\n",
      "  ./.)\n",
      "(S\n",
      "  We/PRP\n",
      "  will/MD\n",
      "  be/VB\n",
      "  the/DT\n",
      "  ones/NNS\n",
      "  that/WDT\n",
      "  are/VBP\n",
      "  going/VBG\n",
      "  to/TO\n",
      "  show/VB\n",
      "  them/PRP\n",
      "  just/RB\n",
      "  how/WRB\n",
      "  much/JJ\n",
      "  they/PRP\n",
      "  have/VBP\n",
      "  to/TO\n",
      "  lose/VB\n",
      "  ./.)\n",
      "(S (GPE Hope/NNP) is/VBZ like/IN dominos/NNS ./.)\n",
      "(S Once/RB one/CD falls/VBZ ,/, the/DT rest/NN follow/NN ./.)\n"
     ]
    }
   ],
   "source": [
    "preprocess(text)"
   ]
  },
  {
   "cell_type": "code",
   "execution_count": null,
   "metadata": {},
   "outputs": [],
   "source": []
  }
 ],
 "metadata": {
  "kernelspec": {
   "display_name": "Python 3",
   "language": "python",
   "name": "python3"
  },
  "language_info": {
   "codemirror_mode": {
    "name": "ipython",
    "version": 3
   },
   "file_extension": ".py",
   "mimetype": "text/x-python",
   "name": "python",
   "nbconvert_exporter": "python",
   "pygments_lexer": "ipython3",
   "version": "3.6.10"
  }
 },
 "nbformat": 4,
 "nbformat_minor": 4
}
